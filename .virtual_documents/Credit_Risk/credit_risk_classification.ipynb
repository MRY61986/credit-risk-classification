# Import the modules
import numpy as np
import pandas as pd
from pathlib import Path
from sklearn.metrics import confusion_matrix, classification_report











# Read the CSV file from the Resources folder into a Pandas DataFrame
df = pd.read_csv("Resources/lending_data.csv")

# Review the DataFrame
df.head()






# Separate the data into labels and features

# Separate the y variable, the Labels
y = df["loan_status"]

# Separate the X variable, the Features
X = df.drop(columns=["loan_status"])



# Review the y variable Series
y.head()


# Review the X variable DataFrame
X.head()





# Import the train_test_learn module
from sklearn.model_selection import train_test_split

# Split the data using train_test_split
# Assign a random_state of 1 to the function
X_train, X_test, y_train, y_test = train_test_split(X, y, test_size=0.2, random_state=1)












# Import the LogisticRegression module from SKLearn
from sklearn.linear_model import LogisticRegression

# Instantiate the Logistic Regression model
# Assign a random_state parameter of 1 to the model
model = LogisticRegression(max_iter=1000, random_state=1)

# Fit the model using training data
model.fit(X_train, y_train)






# Make a prediction using the testing data
y_pred = model.predict(X_test)






# Generate a confusion matrix for the model
from sklearn.metrics import confusion_matrix

conf_matrix = confusion_matrix(y_test, y_pred)
print("Confusion Matrix:")
print(conf_matrix)



# Print the classification report for the model
from sklearn.metrics import classification_report

class_report = classification_report(y_test, y_pred)
print("Classification Report:")
print(class_report)









---
